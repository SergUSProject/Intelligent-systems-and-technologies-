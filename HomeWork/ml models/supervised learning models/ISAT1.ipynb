{
  "nbformat": 4,
  "nbformat_minor": 0,
  "metadata": {
    "colab": {
      "provenance": [],
      "toc_visible": true
    },
    "kernelspec": {
      "name": "python3",
      "display_name": "Python 3"
    },
    "language_info": {
      "name": "python"
    }
  },
  "cells": [
    {
      "cell_type": "markdown",
      "source": [
        "# Линейная регрессия"
      ],
      "metadata": {
        "id": "HNPGs9sW3Lym"
      }
    },
    {
      "cell_type": "code",
      "execution_count": 1,
      "metadata": {
        "colab": {
          "base_uri": "https://localhost:8080/"
        },
        "id": "qvxgzaUV3HW8",
        "outputId": "c66ace7a-59af-4e92-adf5-29965c96b02f"
      },
      "outputs": [
        {
          "output_type": "stream",
          "name": "stdout",
          "text": [
            "Populating the interactive namespace from numpy and matplotlib\n"
          ]
        }
      ],
      "source": [
        "import pandas as pd\n",
        "%pylab inline"
      ]
    },
    {
      "cell_type": "code",
      "source": [
        "ds = pd.read_csv('https://raw.githubusercontent.com/sdukshis/ml-intro/master/datasets/Davis.csv', index_col=0)\n",
        "ds.head()"
      ],
      "metadata": {
        "colab": {
          "base_uri": "https://localhost:8080/",
          "height": 206
        },
        "id": "7PbyIC3x3Sfx",
        "outputId": "5b82c4f1-ddda-43bc-a1be-aeef2d713f61"
      },
      "execution_count": 2,
      "outputs": [
        {
          "output_type": "execute_result",
          "data": {
            "text/plain": [
              "  sex  weight  height  repwt  repht\n",
              "1   M      77     182   77.0  180.0\n",
              "2   F      58     161   51.0  159.0\n",
              "3   F      53     161   54.0  158.0\n",
              "4   M      68     177   70.0  175.0\n",
              "5   F      59     157   59.0  155.0"
            ],
            "text/html": [
              "\n",
              "  <div id=\"df-fc051d3b-172f-4e83-8be7-8130b1cc3371\">\n",
              "    <div class=\"colab-df-container\">\n",
              "      <div>\n",
              "<style scoped>\n",
              "    .dataframe tbody tr th:only-of-type {\n",
              "        vertical-align: middle;\n",
              "    }\n",
              "\n",
              "    .dataframe tbody tr th {\n",
              "        vertical-align: top;\n",
              "    }\n",
              "\n",
              "    .dataframe thead th {\n",
              "        text-align: right;\n",
              "    }\n",
              "</style>\n",
              "<table border=\"1\" class=\"dataframe\">\n",
              "  <thead>\n",
              "    <tr style=\"text-align: right;\">\n",
              "      <th></th>\n",
              "      <th>sex</th>\n",
              "      <th>weight</th>\n",
              "      <th>height</th>\n",
              "      <th>repwt</th>\n",
              "      <th>repht</th>\n",
              "    </tr>\n",
              "  </thead>\n",
              "  <tbody>\n",
              "    <tr>\n",
              "      <th>1</th>\n",
              "      <td>M</td>\n",
              "      <td>77</td>\n",
              "      <td>182</td>\n",
              "      <td>77.0</td>\n",
              "      <td>180.0</td>\n",
              "    </tr>\n",
              "    <tr>\n",
              "      <th>2</th>\n",
              "      <td>F</td>\n",
              "      <td>58</td>\n",
              "      <td>161</td>\n",
              "      <td>51.0</td>\n",
              "      <td>159.0</td>\n",
              "    </tr>\n",
              "    <tr>\n",
              "      <th>3</th>\n",
              "      <td>F</td>\n",
              "      <td>53</td>\n",
              "      <td>161</td>\n",
              "      <td>54.0</td>\n",
              "      <td>158.0</td>\n",
              "    </tr>\n",
              "    <tr>\n",
              "      <th>4</th>\n",
              "      <td>M</td>\n",
              "      <td>68</td>\n",
              "      <td>177</td>\n",
              "      <td>70.0</td>\n",
              "      <td>175.0</td>\n",
              "    </tr>\n",
              "    <tr>\n",
              "      <th>5</th>\n",
              "      <td>F</td>\n",
              "      <td>59</td>\n",
              "      <td>157</td>\n",
              "      <td>59.0</td>\n",
              "      <td>155.0</td>\n",
              "    </tr>\n",
              "  </tbody>\n",
              "</table>\n",
              "</div>\n",
              "      <button class=\"colab-df-convert\" onclick=\"convertToInteractive('df-fc051d3b-172f-4e83-8be7-8130b1cc3371')\"\n",
              "              title=\"Convert this dataframe to an interactive table.\"\n",
              "              style=\"display:none;\">\n",
              "        \n",
              "  <svg xmlns=\"http://www.w3.org/2000/svg\" height=\"24px\"viewBox=\"0 0 24 24\"\n",
              "       width=\"24px\">\n",
              "    <path d=\"M0 0h24v24H0V0z\" fill=\"none\"/>\n",
              "    <path d=\"M18.56 5.44l.94 2.06.94-2.06 2.06-.94-2.06-.94-.94-2.06-.94 2.06-2.06.94zm-11 1L8.5 8.5l.94-2.06 2.06-.94-2.06-.94L8.5 2.5l-.94 2.06-2.06.94zm10 10l.94 2.06.94-2.06 2.06-.94-2.06-.94-.94-2.06-.94 2.06-2.06.94z\"/><path d=\"M17.41 7.96l-1.37-1.37c-.4-.4-.92-.59-1.43-.59-.52 0-1.04.2-1.43.59L10.3 9.45l-7.72 7.72c-.78.78-.78 2.05 0 2.83L4 21.41c.39.39.9.59 1.41.59.51 0 1.02-.2 1.41-.59l7.78-7.78 2.81-2.81c.8-.78.8-2.07 0-2.86zM5.41 20L4 18.59l7.72-7.72 1.47 1.35L5.41 20z\"/>\n",
              "  </svg>\n",
              "      </button>\n",
              "      \n",
              "  <style>\n",
              "    .colab-df-container {\n",
              "      display:flex;\n",
              "      flex-wrap:wrap;\n",
              "      gap: 12px;\n",
              "    }\n",
              "\n",
              "    .colab-df-convert {\n",
              "      background-color: #E8F0FE;\n",
              "      border: none;\n",
              "      border-radius: 50%;\n",
              "      cursor: pointer;\n",
              "      display: none;\n",
              "      fill: #1967D2;\n",
              "      height: 32px;\n",
              "      padding: 0 0 0 0;\n",
              "      width: 32px;\n",
              "    }\n",
              "\n",
              "    .colab-df-convert:hover {\n",
              "      background-color: #E2EBFA;\n",
              "      box-shadow: 0px 1px 2px rgba(60, 64, 67, 0.3), 0px 1px 3px 1px rgba(60, 64, 67, 0.15);\n",
              "      fill: #174EA6;\n",
              "    }\n",
              "\n",
              "    [theme=dark] .colab-df-convert {\n",
              "      background-color: #3B4455;\n",
              "      fill: #D2E3FC;\n",
              "    }\n",
              "\n",
              "    [theme=dark] .colab-df-convert:hover {\n",
              "      background-color: #434B5C;\n",
              "      box-shadow: 0px 1px 3px 1px rgba(0, 0, 0, 0.15);\n",
              "      filter: drop-shadow(0px 1px 2px rgba(0, 0, 0, 0.3));\n",
              "      fill: #FFFFFF;\n",
              "    }\n",
              "  </style>\n",
              "\n",
              "      <script>\n",
              "        const buttonEl =\n",
              "          document.querySelector('#df-fc051d3b-172f-4e83-8be7-8130b1cc3371 button.colab-df-convert');\n",
              "        buttonEl.style.display =\n",
              "          google.colab.kernel.accessAllowed ? 'block' : 'none';\n",
              "\n",
              "        async function convertToInteractive(key) {\n",
              "          const element = document.querySelector('#df-fc051d3b-172f-4e83-8be7-8130b1cc3371');\n",
              "          const dataTable =\n",
              "            await google.colab.kernel.invokeFunction('convertToInteractive',\n",
              "                                                     [key], {});\n",
              "          if (!dataTable) return;\n",
              "\n",
              "          const docLinkHtml = 'Like what you see? Visit the ' +\n",
              "            '<a target=\"_blank\" href=https://colab.research.google.com/notebooks/data_table.ipynb>data table notebook</a>'\n",
              "            + ' to learn more about interactive tables.';\n",
              "          element.innerHTML = '';\n",
              "          dataTable['output_type'] = 'display_data';\n",
              "          await google.colab.output.renderOutput(dataTable, element);\n",
              "          const docLink = document.createElement('div');\n",
              "          docLink.innerHTML = docLinkHtml;\n",
              "          element.appendChild(docLink);\n",
              "        }\n",
              "      </script>\n",
              "    </div>\n",
              "  </div>\n",
              "  "
            ]
          },
          "metadata": {},
          "execution_count": 2
        }
      ]
    },
    {
      "cell_type": "code",
      "source": [
        "from sklearn.linear_model import LinearRegression"
      ],
      "metadata": {
        "id": "z0uKb3XL3VqB"
      },
      "execution_count": 3,
      "outputs": []
    },
    {
      "cell_type": "code",
      "source": [
        "X = ds[['weight']]\n",
        "y = ds['height']"
      ],
      "metadata": {
        "id": "Z_vlltZc3aDj"
      },
      "execution_count": 4,
      "outputs": []
    },
    {
      "cell_type": "code",
      "source": [
        "from sklearn.model_selection import train_test_split\n",
        "X_train, X_test, y_train, y_test = train_test_split(X, y, test_size=0.2, random_state=0)"
      ],
      "metadata": {
        "id": "qU031bJA3l3v"
      },
      "execution_count": 5,
      "outputs": []
    },
    {
      "cell_type": "markdown",
      "source": [
        "Обучаем модель линейной регрессии на данных, используя в качестве целевой переменной рост (height), а в качестве признака вес (weight)."
      ],
      "metadata": {
        "id": "gc3txz794c6-"
      }
    },
    {
      "cell_type": "code",
      "source": [
        "regressor = LinearRegression()\n",
        "regressor.fit(X_train, y_train)\n",
        "y_pred = regressor.predict(X_test)\n",
        "df = pd.DataFrame({'Actual': y_test, 'Predicted': y_pred})\n",
        "print(df.head())\n",
        "from sklearn import metrics\n",
        "print('Mean Absolute Error:', metrics.mean_absolute_error(y_test, y_pred))\n",
        "print('Mean Squared Error:', metrics.mean_squared_error(y_test, y_pred))\n",
        "print('Root Mean Squared Error:', np.sqrt(metrics.mean_squared_error(y_test, y_pred)))"
      ],
      "metadata": {
        "colab": {
          "base_uri": "https://localhost:8080/"
        },
        "id": "F99ZhuqJ31FR",
        "outputId": "ac5d7be2-6b85-492a-dd53-06af569eb0f8"
      },
      "execution_count": 7,
      "outputs": [
        {
          "output_type": "stream",
          "name": "stdout",
          "text": [
            "     Actual   Predicted\n",
            "19      197  175.957807\n",
            "171     169  175.957807\n",
            "108     167  166.696348\n",
            "99      159  164.259122\n",
            "178     170  171.083355\n",
            "Mean Absolute Error: 4.482072655809522\n",
            "Mean Squared Error: 37.97441412254257\n",
            "Root Mean Squared Error: 6.1623383648208225\n"
          ]
        }
      ]
    },
    {
      "cell_type": "markdown",
      "source": [
        "Построим прямую регрессии и точки обучающей выборки"
      ],
      "metadata": {
        "id": "qIp9XnDN4ikx"
      }
    },
    {
      "cell_type": "code",
      "source": [
        "import matplotlib.pyplot as plt\n",
        "\n",
        "plt.xlabel('Вес')\n",
        "plt.ylabel('Рост')\n",
        "plt.scatter(X_test, y_test)\n",
        "plt.plot(X_test, y_pred, color='red')"
      ],
      "metadata": {
        "colab": {
          "base_uri": "https://localhost:8080/",
          "height": 296
        },
        "id": "nT_CM_Eb3_QT",
        "outputId": "889a10ca-f55e-469b-e9e6-87f437e5139d"
      },
      "execution_count": 8,
      "outputs": [
        {
          "output_type": "execute_result",
          "data": {
            "text/plain": [
              "[<matplotlib.lines.Line2D at 0x7fd0e2cc2730>]"
            ]
          },
          "metadata": {},
          "execution_count": 8
        },
        {
          "output_type": "display_data",
          "data": {
            "text/plain": [
              "<Figure size 432x288 with 1 Axes>"
            ],
            "image/png": "[encoded data removed]"
          },
          "metadata": {
            "needs_background": "light"
          }
        }
      ]
    },
    {
      "cell_type": "markdown",
      "source": [
        "Расширим пространство признаков, добавив туда пол и repwt."
      ],
      "metadata": {
        "id": "8RE_NF7l4q47"
      }
    },
    {
      "cell_type": "code",
      "source": [
        "X = ds[['weight', 'sex', 'repwt']]\n",
        "y = ds['height']"
      ],
      "metadata": {
        "id": "0Cu18APU4_o2"
      },
      "execution_count": 9,
      "outputs": []
    },
    {
      "cell_type": "code",
      "source": [
        "from sklearn.preprocessing import OneHotEncoder\n",
        "ohe = OneHotEncoder()\n",
        "X.dropna()\n",
        "ohe.fit(X)\n",
        "X_enc = ohe.transform(X)"
      ],
      "metadata": {
        "id": "O6rjWArd7hlG"
      },
      "execution_count": 21,
      "outputs": []
    },
    {
      "cell_type": "code",
      "source": [
        "from sklearn.model_selection import train_test_split\n",
        "X_train, X_test, y_train, y_test = train_test_split(X_enc, y, test_size=0.2, random_state=0)"
      ],
      "metadata": {
        "id": "9pU0BnNH76Aj"
      },
      "execution_count": 22,
      "outputs": []
    },
    {
      "cell_type": "code",
      "source": [
        "regressor = LinearRegression()\n",
        "regressor.fit(X_train, y_train)\n",
        "y_pred = regressor.predict(X_test)\n",
        "df = pd.DataFrame({'Actual': y_test, 'Predicted': y_pred})\n",
        "print(df.head())\n",
        "from sklearn import metrics\n",
        "print('Mean Absolute Error:', metrics.mean_absolute_error(y_test, y_pred))\n",
        "print('Mean Squared Error:', metrics.mean_squared_error(y_test, y_pred))\n",
        "print('Root Mean Squared Error:', np.sqrt(metrics.mean_squared_error(y_test, y_pred)))"
      ],
      "metadata": {
        "colab": {
          "base_uri": "https://localhost:8080/"
        },
        "id": "jKItnYK85JXO",
        "outputId": "32188927-ca40-4fa4-9fbd-bc066ae9dc37"
      },
      "execution_count": 23,
      "outputs": [
        {
          "output_type": "stream",
          "name": "stdout",
          "text": [
            "     Actual   Predicted\n",
            "19      197  179.945400\n",
            "171     169  179.945400\n",
            "108     167  164.192990\n",
            "99      159  163.552430\n",
            "178     170  179.897286\n",
            "Mean Absolute Error: 5.513558309884626\n",
            "Mean Squared Error: 46.631158824598096\n",
            "Root Mean Squared Error: 6.828701108160914\n"
          ]
        }
      ]
    },
    {
      "cell_type": "markdown",
      "source": [
        "Видим, что при добавлении новых признаков модель слегка переобучилась и стала выдавать худший результат. Рациональней использовать только признак пола и repht."
      ],
      "metadata": {
        "id": "EEN3nTaU4yQr"
      }
    },
    {
      "cell_type": "markdown",
      "source": [
        "# Деревья принятия решений"
      ],
      "metadata": {
        "id": "lo4ed4no9oSY"
      }
    },
    {
      "cell_type": "code",
      "source": [
        "from sklearn.ensemble import RandomForestRegressor\n",
        "from sklearn.tree import DecisionTreeRegressor\n",
        "from sklearn.model_selection import train_test_split\n",
        "import numpy as np"
      ],
      "metadata": {
        "id": "TnbDHSyCAORh"
      },
      "execution_count": 49,
      "outputs": []
    },
    {
      "cell_type": "code",
      "source": [
        "ds = pd.read_csv('https://raw.githubusercontent.com/sdukshis/ml-intro/master/datasets/Davis.csv', index_col=0)"
      ],
      "metadata": {
        "id": "JzvVISUuCmNT"
      },
      "execution_count": 40,
      "outputs": []
    },
    {
      "cell_type": "markdown",
      "source": [
        "Рассчитаем, какой процент NaN значений присутствует в столбцах repht и repwt датасета"
      ],
      "metadata": {
        "id": "EhfjTdbO3e6F"
      }
    },
    {
      "cell_type": "code",
      "source": [
        "p1 = ds['repht'].isna().sum() / ds['repht'].shape[0] * 100\n",
        "p2 = ds['repwt'].isna().sum() / ds['repwt'].shape[0] * 100\n",
        "print(\"Процент NaN значений в столбце repht:\", p1)\n",
        "print(\"Процент NaN значений в столбце repwt:\", p2)"
      ],
      "metadata": {
        "colab": {
          "base_uri": "https://localhost:8080/"
        },
        "id": "nrcmcHneKTeX",
        "outputId": "3d5db795-b60a-4efa-b852-b66277cbe6db"
      },
      "execution_count": 41,
      "outputs": [
        {
          "output_type": "stream",
          "name": "stdout",
          "text": [
            "Процент NaN значений в столбце repht: 8.5\n",
            "Процент NaN значений в столбце repwt: 8.5\n"
          ]
        }
      ]
    },
    {
      "cell_type": "markdown",
      "source": [
        "Т.к процент оказался небольшим, удаляем строки, содержащие NaN значения"
      ],
      "metadata": {
        "id": "bb7Th_vl3md7"
      }
    },
    {
      "cell_type": "code",
      "source": [
        "ds = ds.dropna()"
      ],
      "metadata": {
        "id": "fp07mNCILS31"
      },
      "execution_count": 42,
      "outputs": []
    },
    {
      "cell_type": "markdown",
      "source": [
        "Рассчитаем коэффициент корреляции для каждого предполагаемого параметра"
      ],
      "metadata": {
        "id": "c4SU5uml3wxk"
      }
    },
    {
      "cell_type": "code",
      "source": [
        "import scipy \n",
        "y = ds['height']\n",
        "r, p = scipy.stats.pearsonr(ds['weight'], y)\n",
        "print(\"Коэффициент корреляции роста с весом: \", r)\n",
        "r, p = scipy.stats.pearsonr(ds['repwt'], y)\n",
        "print(\"Коэффициент корреляции роста с repwt: \", r)\n",
        "r, p = scipy.stats.pearsonr(ds['repht'], y)\n",
        "print(\"Коэффициент корреляции роста с repht: \", r)"
      ],
      "metadata": {
        "colab": {
          "base_uri": "https://localhost:8080/"
        },
        "id": "y57sqG6TJTsM",
        "outputId": "b1c3f68c-d14c-4b65-c6d7-bf110ba5219a"
      },
      "execution_count": 43,
      "outputs": [
        {
          "output_type": "stream",
          "name": "stdout",
          "text": [
            "Коэффициент корреляции роста с весом:  0.7684924344931975\n",
            "Коэффициент корреляции роста с repwt:  0.7827869550254\n",
            "Коэффициент корреляции роста с repht:  0.9755870083092837\n"
          ]
        }
      ]
    },
    {
      "cell_type": "markdown",
      "source": [
        "Наибольший процент корреляции роста оказался с параметром repht и, очевидно, с полом, так что построим модель на основе этих 2-ух признаков"
      ],
      "metadata": {
        "id": "sH5yTz4l32GH"
      }
    },
    {
      "cell_type": "code",
      "source": [
        "X = ds[['sex', 'repht']] #выбираем 2 самых значимых параметра для предсказания роста\n",
        "y = ds['height']"
      ],
      "metadata": {
        "id": "XoMyjNErMN89"
      },
      "execution_count": 44,
      "outputs": []
    },
    {
      "cell_type": "markdown",
      "source": [
        "Закодируем категориальные данные (М, Ж) с помощью OneHotEncoder"
      ],
      "metadata": {
        "id": "aP0k-xTg4EFm"
      }
    },
    {
      "cell_type": "code",
      "source": [
        "from sklearn.preprocessing import OneHotEncoder\n",
        "ohe = OneHotEncoder()\n",
        "ohe.fit(X)\n",
        "X = ohe.transform(X)"
      ],
      "metadata": {
        "id": "qi-mgBhVLq3N"
      },
      "execution_count": 45,
      "outputs": []
    },
    {
      "cell_type": "code",
      "source": [
        "from sklearn.model_selection import train_test_split\n",
        "X_train, X_test, y_train, y_test = train_test_split(X, y, test_size=0.3, random_state=0)"
      ],
      "metadata": {
        "id": "jew7srbUAnte"
      },
      "execution_count": 47,
      "outputs": []
    },
    {
      "cell_type": "code",
      "source": [
        "DTR = DecisionTreeRegressor() \n",
        "DTR.fit(X_train, y_train)\n",
        "y_pred = DTR.predict(X_test)\n",
        "df = pd.DataFrame({'Actual': y_test, 'Predicted': y_pred})\n",
        "print(df.head())\n",
        "from sklearn import metrics\n",
        "print('Mean Absolute Error:', metrics.mean_absolute_error(y_test, y_pred))\n",
        "print('Mean Squared Error:', metrics.mean_squared_error(y_test, y_pred))\n",
        "print('Root Mean Squared Error:', np.sqrt(metrics.mean_squared_error(y_test, y_pred)))"
      ],
      "metadata": {
        "colab": {
          "base_uri": "https://localhost:8080/"
        },
        "id": "H7xXXVduBOwv",
        "outputId": "8fc83f46-3f6e-4301-95d7-44c97444554d"
      },
      "execution_count": 53,
      "outputs": [
        {
          "output_type": "stream",
          "name": "stdout",
          "text": [
            "     Actual   Predicted\n",
            "89      163  163.400000\n",
            "8       186  182.285714\n",
            "66      162  163.400000\n",
            "195     164  163.500000\n",
            "148     157  160.000000\n",
            "Mean Absolute Error: 2.6812805376441755\n",
            "Mean Squared Error: 21.269757577491486\n",
            "Root Mean Squared Error: 4.61191474091743\n"
          ]
        }
      ]
    },
    {
      "cell_type": "code",
      "source": [
        "RFR = RandomForestRegressor() \n",
        "RFR.fit(X_train, y_train)\n",
        "y_pred = RFR.predict(X_test)\n",
        "df = pd.DataFrame({'Actual': y_test, 'Predicted': y_pred})\n",
        "print(df.head())\n",
        "from sklearn import metrics\n",
        "print('Mean Absolute Error:', metrics.mean_absolute_error(y_test, y_pred))\n",
        "print('Mean Squared Error:', metrics.mean_squared_error(y_test, y_pred))\n",
        "print('Root Mean Squared Error:', np.sqrt(metrics.mean_squared_error(y_test, y_pred)))"
      ],
      "metadata": {
        "colab": {
          "base_uri": "https://localhost:8080/"
        },
        "id": "8STpzA2dFzDG",
        "outputId": "3c294ece-ea3b-4642-e728-f15746f08532"
      },
      "execution_count": 54,
      "outputs": [
        {
          "output_type": "stream",
          "name": "stdout",
          "text": [
            "     Actual   Predicted\n",
            "89      163  163.448035\n",
            "8       186  182.316672\n",
            "66      162  163.448035\n",
            "195     164  164.451806\n",
            "148     157  160.140970\n",
            "Mean Absolute Error: 2.5520903160135324\n",
            "Mean Squared Error: 19.178504021843263\n",
            "Root Mean Squared Error: 4.379326891411883\n"
          ]
        }
      ]
    },
    {
      "cell_type": "markdown",
      "source": [
        "# Классификация"
      ],
      "metadata": {
        "id": "Buo5ejJMPKL5"
      }
    },
    {
      "cell_type": "code",
      "source": [
        "from sklearn.linear_model import LogisticRegression\n",
        "from sklearn.neighbors import KNeighborsClassifier\n",
        "from sklearn.datasets import make_classification\n",
        "from sklearn.model_selection import train_test_split\n",
        "from sklearn.metrics import classification_report, confusion_matrix, mean_absolute_error, precision_recall_curve, average_precision_score, roc_curve, roc_auc_score"
      ],
      "metadata": {
        "id": "mHH-n9MtPSXF"
      },
      "execution_count": 113,
      "outputs": []
    },
    {
      "cell_type": "code",
      "source": [
        "X, y = make_classification(\n",
        "    n_samples = 1000,\n",
        "    n_features = 2,\n",
        "    n_informative = 2,\n",
        "    n_redundant = 0,\n",
        "    n_repeated = 0,\n",
        "    n_classes = 2,\n",
        "    n_clusters_per_class = 1,\n",
        "    weights = (0.15, 0.85),\n",
        "    class_sep = 6.0,\n",
        "    hypercube = False,\n",
        "    random_state = 2,\n",
        ")"
      ],
      "metadata": {
        "id": "Mba_TIbgPNQa"
      },
      "execution_count": 55,
      "outputs": []
    },
    {
      "cell_type": "code",
      "source": [
        "X_train, X_test, y_train, y_test = train_test_split(X, y, test_size=0.2, random_state=0)"
      ],
      "metadata": {
        "id": "xCmmR9UKPTV-"
      },
      "execution_count": 59,
      "outputs": []
    },
    {
      "cell_type": "markdown",
      "source": [
        "Отражаем с помощью круговой диаграммы распределение выборки по классам"
      ],
      "metadata": {
        "id": "aQWs1tw43LKF"
      }
    },
    {
      "cell_type": "code",
      "source": [
        "fig, axs = plt.subplots(1, 2)\n",
        "axs[0].pie([list(y_train).count(1), list(y_train).count(0)], labels=['1', '0'])\n",
        "axs[0].set_title('Classes in train')\n",
        "axs[1].pie([list(y_test).count(1), list(y_test).count(0)], labels=['1', '0'])\n",
        "axs[1].set_title('Classes in test')\n",
        "plt.show()"
      ],
      "metadata": {
        "colab": {
          "base_uri": "https://localhost:8080/",
          "height": 199
        },
        "id": "2j5t9-r2TIj9",
        "outputId": "72f8ec86-d16f-4e2a-9b91-e45bba5b5318"
      },
      "execution_count": 76,
      "outputs": [
        {
          "output_type": "display_data",
          "data": {
            "text/plain": [
              "<Figure size 432x288 with 2 Axes>"
            ],
            "image/png": "[encoded data removed]"
          },
          "metadata": {}
        }
      ]
    },
    {
      "cell_type": "markdown",
      "source": [
        "# Логистическая регрессия"
      ],
      "metadata": {
        "id": "5t7mYMrT2UQf"
      }
    },
    {
      "cell_type": "code",
      "source": [
        "LR= LogisticRegression()\n",
        "LR.fit(X_train, y_train)\n",
        "y_pred = LR.predict(X_test)\n",
        "print(classification_report(y_test, y_pred))\n",
        "print('Доля верных ответов для лог. регрессии:', 1 - mean_absolute_error(y_test, y_pred))"
      ],
      "metadata": {
        "colab": {
          "base_uri": "https://localhost:8080/"
        },
        "id": "AZFE-3U0vwCf",
        "outputId": "2d0e8613-0034-483c-c9e5-3e6a14f31401"
      },
      "execution_count": 114,
      "outputs": [
        {
          "output_type": "stream",
          "name": "stdout",
          "text": [
            "              precision    recall  f1-score   support\n",
            "\n",
            "           0       0.80      0.62      0.70        32\n",
            "           1       0.93      0.97      0.95       168\n",
            "\n",
            "    accuracy                           0.92       200\n",
            "   macro avg       0.87      0.80      0.83       200\n",
            "weighted avg       0.91      0.92      0.91       200\n",
            "\n",
            "Доля верных ответов для лог. регрессии: 0.915\n"
          ]
        }
      ]
    },
    {
      "cell_type": "code",
      "source": [
        "print('Матрица ошибок для лог.регрессии:')\n",
        "print(confusion_matrix(y_test, y_pred))"
      ],
      "metadata": {
        "colab": {
          "base_uri": "https://localhost:8080/"
        },
        "id": "kTR575cfxAX8",
        "outputId": "f49d55fb-2416-4ce6-ba54-eb2c0fe91d87"
      },
      "execution_count": 115,
      "outputs": [
        {
          "output_type": "stream",
          "name": "stdout",
          "text": [
            "Матрица ошибок для лог.регрессии:\n",
            "[[ 20  12]\n",
            " [  5 163]]\n"
          ]
        }
      ]
    },
    {
      "cell_type": "code",
      "source": [
        "precision, recall, thresholds = precision_recall_curve(y_test, y_pred)\n",
        "\n",
        "fig, ax = plt.subplots()\n",
        "ax.plot(recall, precision, color='purple')\n",
        "ax.set_title('PR кривая для лог.регрессии')\n",
        "ax.set_ylabel('Precision')\n",
        "ax.set_xlabel('Recall')\n",
        "ax.legend({average_precision_score(y_test, y_pred) : 'Average precision'}, title = 'Average precision')\n",
        "plt.show() "
      ],
      "metadata": {
        "colab": {
          "base_uri": "https://localhost:8080/",
          "height": 295
        },
        "id": "GeM7__zqyR--",
        "outputId": "a9aaa5c0-13f3-4655-e559-70a904fab8b1"
      },
      "execution_count": 116,
      "outputs": [
        {
          "output_type": "display_data",
          "data": {
            "text/plain": [
              "<Figure size 432x288 with 1 Axes>"
            ],
            "image/png": "[encoded data removed]"
          },
          "metadata": {
            "needs_background": "light"
          }
        }
      ]
    },
    {
      "cell_type": "code",
      "source": [
        "fpr, tpr, _ = roc_curve (y_test, y_pred)\n",
        "\n",
        "plt.plot(fpr,tpr)\n",
        "plt.ylabel('True Positive Rate')\n",
        "plt.xlabel('False Positive Rate')\n",
        "plt.legend({roc_auc_score(y_test, y_pred) : 'ROC AUC'}, title = 'ROC AUC')\n",
        "plt.show() "
      ],
      "metadata": {
        "colab": {
          "base_uri": "https://localhost:8080/",
          "height": 279
        },
        "id": "kwKHX9B5022C",
        "outputId": "cc5474da-7e20-4f09-fd3e-550532a08e7f"
      },
      "execution_count": 119,
      "outputs": [
        {
          "output_type": "display_data",
          "data": {
            "text/plain": [
              "<Figure size 432x288 with 1 Axes>"
            ],
            "image/png": "[encoded data removed]"
          },
          "metadata": {
            "needs_background": "light"
          }
        }
      ]
    },
    {
      "cell_type": "markdown",
      "source": [
        "# Метод K-ближайших соседей"
      ],
      "metadata": {
        "id": "YT5vB3bb2Zd2"
      }
    },
    {
      "cell_type": "code",
      "source": [
        "KNC = KNeighborsClassifier()\n",
        "KNC.fit(X_train, y_train)\n",
        "y_pred = KNC.predict(X_test)\n",
        "print(classification_report(y_test, y_pred))\n",
        "print('Доля верных ответов для KNN:', 1 - mean_absolute_error(y_test, y_pred))"
      ],
      "metadata": {
        "colab": {
          "base_uri": "https://localhost:8080/"
        },
        "id": "uBbg1OfLxUi4",
        "outputId": "8938e498-d02e-4d4c-a3d9-9ef5aebc4cfd"
      },
      "execution_count": 120,
      "outputs": [
        {
          "output_type": "stream",
          "name": "stdout",
          "text": [
            "              precision    recall  f1-score   support\n",
            "\n",
            "           0       0.75      0.56      0.64        32\n",
            "           1       0.92      0.96      0.94       168\n",
            "\n",
            "    accuracy                           0.90       200\n",
            "   macro avg       0.84      0.76      0.79       200\n",
            "weighted avg       0.89      0.90      0.89       200\n",
            "\n",
            "Доля верных ответов для KNN: 0.9\n"
          ]
        }
      ]
    },
    {
      "cell_type": "code",
      "source": [
        "print('Матрица ошибок для KNN:')\n",
        "print(confusion_matrix(y_test, y_pred))"
      ],
      "metadata": {
        "colab": {
          "base_uri": "https://localhost:8080/"
        },
        "id": "rk_XREm0xf-r",
        "outputId": "9b468594-8f6d-439b-dac7-7db04efe4dd5"
      },
      "execution_count": 121,
      "outputs": [
        {
          "output_type": "stream",
          "name": "stdout",
          "text": [
            "Матрица ошибок для KNN:\n",
            "[[ 18  14]\n",
            " [  6 162]]\n"
          ]
        }
      ]
    },
    {
      "cell_type": "code",
      "source": [
        "precision, recall, thresholds = precision_recall_curve(y_test, y_pred)\n",
        "\n",
        "fig, ax = plt.subplots()\n",
        "ax.plot(recall, precision, color='purple')\n",
        "\n",
        "ax.set_title('PR кривая для KNN')\n",
        "ax.set_ylabel('Precision')\n",
        "ax.set_xlabel('Recall')\n",
        "ax.legend({average_precision_score(y_test, y_pred) : 'Average precision'}, title = 'Average precision')\n",
        "\n",
        "plt.show() "
      ],
      "metadata": {
        "colab": {
          "base_uri": "https://localhost:8080/",
          "height": 295
        },
        "id": "mys7Mvf3x9SE",
        "outputId": "8a9ad7d8-e587-4e9c-cc74-9c4ffc25eabb"
      },
      "execution_count": 122,
      "outputs": [
        {
          "output_type": "display_data",
          "data": {
            "text/plain": [
              "<Figure size 432x288 with 1 Axes>"
            ],
            "image/png": "[encoded data removed]"
          },
          "metadata": {
            "needs_background": "light"
          }
        }
      ]
    },
    {
      "cell_type": "code",
      "source": [
        "fpr, tpr, _ = roc_curve (y_test, y_pred)\n",
        "plt.plot(fpr,tpr)\n",
        "plt.ylabel('True Positive Rate')\n",
        "plt.xlabel('False Positive Rate')\n",
        "plt.legend({roc_auc_score(y_test, y_pred) : 'ROC AUC'}, title = 'ROC AUC')\n",
        "plt.show() "
      ],
      "metadata": {
        "colab": {
          "base_uri": "https://localhost:8080/",
          "height": 279
        },
        "id": "kX3lsaUa1oHl",
        "outputId": "cd698926-7671-4ba4-8788-57b285a52746"
      },
      "execution_count": 123,
      "outputs": [
        {
          "output_type": "display_data",
          "data": {
            "text/plain": [
              "<Figure size 432x288 with 1 Axes>"
            ],
            "image/png": "[encoded data removed]"
          },
          "metadata": {
            "needs_background": "light"
          }
        }
      ]
    }
  ]
}